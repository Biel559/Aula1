{
 "cells": [
  {
   "cell_type": "code",
   "execution_count": 1,
   "metadata": {},
   "outputs": [],
   "source": [
    "# importa biblioteca pandas\n",
    "import pandas as pd "
   ]
  },
  {
   "cell_type": "code",
   "execution_count": 2,
   "metadata": {},
   "outputs": [],
   "source": [
    "df = pd.read_csv('Social_Network_Ads.csv',sep=',') #faz a importação da base de dados Social Network csv"
   ]
  },
  {
   "cell_type": "code",
   "execution_count": 3,
   "metadata": {},
   "outputs": [
    {
     "data": {
      "text/html": [
       "<div>\n",
       "<style scoped>\n",
       "    .dataframe tbody tr th:only-of-type {\n",
       "        vertical-align: middle;\n",
       "    }\n",
       "\n",
       "    .dataframe tbody tr th {\n",
       "        vertical-align: top;\n",
       "    }\n",
       "\n",
       "    .dataframe thead th {\n",
       "        text-align: right;\n",
       "    }\n",
       "</style>\n",
       "<table border=\"1\" class=\"dataframe\">\n",
       "  <thead>\n",
       "    <tr style=\"text-align: right;\">\n",
       "      <th></th>\n",
       "      <th>User ID</th>\n",
       "      <th>Gender</th>\n",
       "      <th>Age</th>\n",
       "      <th>EstimatedSalary</th>\n",
       "      <th>Purchased</th>\n",
       "    </tr>\n",
       "  </thead>\n",
       "  <tbody>\n",
       "    <tr>\n",
       "      <th>0</th>\n",
       "      <td>15624510</td>\n",
       "      <td>Male</td>\n",
       "      <td>19</td>\n",
       "      <td>19000</td>\n",
       "      <td>0</td>\n",
       "    </tr>\n",
       "    <tr>\n",
       "      <th>1</th>\n",
       "      <td>15810944</td>\n",
       "      <td>Male</td>\n",
       "      <td>35</td>\n",
       "      <td>20000</td>\n",
       "      <td>0</td>\n",
       "    </tr>\n",
       "    <tr>\n",
       "      <th>2</th>\n",
       "      <td>15668575</td>\n",
       "      <td>Female</td>\n",
       "      <td>26</td>\n",
       "      <td>43000</td>\n",
       "      <td>0</td>\n",
       "    </tr>\n",
       "    <tr>\n",
       "      <th>3</th>\n",
       "      <td>15603246</td>\n",
       "      <td>Female</td>\n",
       "      <td>27</td>\n",
       "      <td>57000</td>\n",
       "      <td>0</td>\n",
       "    </tr>\n",
       "    <tr>\n",
       "      <th>4</th>\n",
       "      <td>15804002</td>\n",
       "      <td>Male</td>\n",
       "      <td>19</td>\n",
       "      <td>76000</td>\n",
       "      <td>0</td>\n",
       "    </tr>\n",
       "  </tbody>\n",
       "</table>\n",
       "</div>"
      ],
      "text/plain": [
       "    User ID  Gender  Age  EstimatedSalary  Purchased\n",
       "0  15624510    Male   19            19000          0\n",
       "1  15810944    Male   35            20000          0\n",
       "2  15668575  Female   26            43000          0\n",
       "3  15603246  Female   27            57000          0\n",
       "4  15804002    Male   19            76000          0"
      ]
     },
     "execution_count": 3,
     "metadata": {},
     "output_type": "execute_result"
    }
   ],
   "source": [
    "df.head() # exibe as primeiras linhas do dataframe"
   ]
  },
  {
   "cell_type": "code",
   "execution_count": 6,
   "metadata": {},
   "outputs": [],
   "source": [
    "# Criando um dicionário para substituir o nome de cada coluna\n",
    "dicionario = {\n",
    "     \"User ID\":\"Usuario\", \"Gender\":\"Genero\", \n",
    "     \"Age\":\"Idade\",\n",
    "     \"Estimated Salary\":\"Salario Estimado\",\n",
    "     \"Purchased\": \"Comprou\"\n",
    "}"
   ]
  },
  {
   "cell_type": "code",
   "execution_count": 7,
   "metadata": {},
   "outputs": [],
   "source": [
    "df.rename(columns=dicionario,inplace=True) # renomeia as colunas"
   ]
  },
  {
   "cell_type": "code",
   "execution_count": 8,
   "metadata": {},
   "outputs": [
    {
     "data": {
      "text/html": [
       "<div>\n",
       "<style scoped>\n",
       "    .dataframe tbody tr th:only-of-type {\n",
       "        vertical-align: middle;\n",
       "    }\n",
       "\n",
       "    .dataframe tbody tr th {\n",
       "        vertical-align: top;\n",
       "    }\n",
       "\n",
       "    .dataframe thead th {\n",
       "        text-align: right;\n",
       "    }\n",
       "</style>\n",
       "<table border=\"1\" class=\"dataframe\">\n",
       "  <thead>\n",
       "    <tr style=\"text-align: right;\">\n",
       "      <th></th>\n",
       "      <th>Usuario</th>\n",
       "      <th>Genero</th>\n",
       "      <th>Idade</th>\n",
       "      <th>EstimatedSalary</th>\n",
       "      <th>Comprou</th>\n",
       "    </tr>\n",
       "  </thead>\n",
       "  <tbody>\n",
       "    <tr>\n",
       "      <th>0</th>\n",
       "      <td>15624510</td>\n",
       "      <td>Male</td>\n",
       "      <td>19</td>\n",
       "      <td>19000</td>\n",
       "      <td>0</td>\n",
       "    </tr>\n",
       "    <tr>\n",
       "      <th>1</th>\n",
       "      <td>15810944</td>\n",
       "      <td>Male</td>\n",
       "      <td>35</td>\n",
       "      <td>20000</td>\n",
       "      <td>0</td>\n",
       "    </tr>\n",
       "    <tr>\n",
       "      <th>2</th>\n",
       "      <td>15668575</td>\n",
       "      <td>Female</td>\n",
       "      <td>26</td>\n",
       "      <td>43000</td>\n",
       "      <td>0</td>\n",
       "    </tr>\n",
       "    <tr>\n",
       "      <th>3</th>\n",
       "      <td>15603246</td>\n",
       "      <td>Female</td>\n",
       "      <td>27</td>\n",
       "      <td>57000</td>\n",
       "      <td>0</td>\n",
       "    </tr>\n",
       "    <tr>\n",
       "      <th>4</th>\n",
       "      <td>15804002</td>\n",
       "      <td>Male</td>\n",
       "      <td>19</td>\n",
       "      <td>76000</td>\n",
       "      <td>0</td>\n",
       "    </tr>\n",
       "  </tbody>\n",
       "</table>\n",
       "</div>"
      ],
      "text/plain": [
       "    Usuario  Genero  Idade  EstimatedSalary  Comprou\n",
       "0  15624510    Male     19            19000        0\n",
       "1  15810944    Male     35            20000        0\n",
       "2  15668575  Female     26            43000        0\n",
       "3  15603246  Female     27            57000        0\n",
       "4  15804002    Male     19            76000        0"
      ]
     },
     "execution_count": 8,
     "metadata": {},
     "output_type": "execute_result"
    }
   ],
   "source": [
    "df.head()"
   ]
  },
  {
   "cell_type": "code",
   "execution_count": 35,
   "metadata": {},
   "outputs": [],
   "source": [
    "import numpy as np # importa a biblioteca numpy\n",
    "import matplotlib.pyplot as plt # importa a biblioteca matplotlib\n",
    "from sklearn.svm import SVC # importa a biblioteca Sklearn e o modelo SVC\n",
    "from sklearn.preprocessing import StandardScaler # da biblioteca\n",
    "#sklearn preprocessing importa o Standard Scaler\n",
    "from sklearn.metrics import confusion_matrix, accuracy_score,precision_score,recall_score,f1_score\n",
    "from matplotlib.colors import ListedColormap # importa da biblioteca matplotlib\n",
    "# o ListedColormap"
   ]
  },
  {
   "cell_type": "code",
   "execution_count": 11,
   "metadata": {},
   "outputs": [],
   "source": [
    "# Selecionando as colunas do dataframe\n",
    "x = df.iloc[:,[2,3]].values # pega os valores da primeira coluna ate a coluna  3\n",
    "y = df.iloc[:,-1].values # pega a saida do dataframe\n",
    "\n"
   ]
  },
  {
   "cell_type": "code",
   "execution_count": 12,
   "metadata": {},
   "outputs": [],
   "source": [
    "# Normalizando os dados com Stand Scaler\n",
    "sc = StandardScaler() # armazena o Standard Scaler na variável sc"
   ]
  },
  {
   "cell_type": "code",
   "execution_count": 13,
   "metadata": {},
   "outputs": [],
   "source": [
    "# dividindo os dados em treino e teste\n",
    "from  sklearn.model_selection import train_test_split # importa o metodo train test\n"
   ]
  },
  {
   "cell_type": "code",
   "execution_count": 14,
   "metadata": {},
   "outputs": [],
   "source": [
    "x_treino,x_teste,y_treino,y_teste=train_test_split(x,y,test_size=0.3,\n",
    "                                                   random_state=3)"
   ]
  },
  {
   "cell_type": "code",
   "execution_count": 15,
   "metadata": {},
   "outputs": [],
   "source": [
    "sc = StandardScaler()"
   ]
  },
  {
   "cell_type": "code",
   "execution_count": 16,
   "metadata": {},
   "outputs": [],
   "source": [
    "x_treino = sc.fit_transform(x_treino) # realiza a transformação dos dados\n",
    "x_teste = sc.fit_transform(x_teste)"
   ]
  },
  {
   "cell_type": "code",
   "execution_count": 17,
   "metadata": {},
   "outputs": [],
   "source": [
    "# Cria o algoritmo de machine learning e treinando o algoritmo SVM\n",
    "algoritmo = SVC(kernel='linear',random_state=3)"
   ]
  },
  {
   "cell_type": "code",
   "execution_count": 19,
   "metadata": {},
   "outputs": [
    {
     "data": {
      "text/html": [
       "<style>#sk-container-id-1 {color: black;}#sk-container-id-1 pre{padding: 0;}#sk-container-id-1 div.sk-toggleable {background-color: white;}#sk-container-id-1 label.sk-toggleable__label {cursor: pointer;display: block;width: 100%;margin-bottom: 0;padding: 0.3em;box-sizing: border-box;text-align: center;}#sk-container-id-1 label.sk-toggleable__label-arrow:before {content: \"▸\";float: left;margin-right: 0.25em;color: #696969;}#sk-container-id-1 label.sk-toggleable__label-arrow:hover:before {color: black;}#sk-container-id-1 div.sk-estimator:hover label.sk-toggleable__label-arrow:before {color: black;}#sk-container-id-1 div.sk-toggleable__content {max-height: 0;max-width: 0;overflow: hidden;text-align: left;background-color: #f0f8ff;}#sk-container-id-1 div.sk-toggleable__content pre {margin: 0.2em;color: black;border-radius: 0.25em;background-color: #f0f8ff;}#sk-container-id-1 input.sk-toggleable__control:checked~div.sk-toggleable__content {max-height: 200px;max-width: 100%;overflow: auto;}#sk-container-id-1 input.sk-toggleable__control:checked~label.sk-toggleable__label-arrow:before {content: \"▾\";}#sk-container-id-1 div.sk-estimator input.sk-toggleable__control:checked~label.sk-toggleable__label {background-color: #d4ebff;}#sk-container-id-1 div.sk-label input.sk-toggleable__control:checked~label.sk-toggleable__label {background-color: #d4ebff;}#sk-container-id-1 input.sk-hidden--visually {border: 0;clip: rect(1px 1px 1px 1px);clip: rect(1px, 1px, 1px, 1px);height: 1px;margin: -1px;overflow: hidden;padding: 0;position: absolute;width: 1px;}#sk-container-id-1 div.sk-estimator {font-family: monospace;background-color: #f0f8ff;border: 1px dotted black;border-radius: 0.25em;box-sizing: border-box;margin-bottom: 0.5em;}#sk-container-id-1 div.sk-estimator:hover {background-color: #d4ebff;}#sk-container-id-1 div.sk-parallel-item::after {content: \"\";width: 100%;border-bottom: 1px solid gray;flex-grow: 1;}#sk-container-id-1 div.sk-label:hover label.sk-toggleable__label {background-color: #d4ebff;}#sk-container-id-1 div.sk-serial::before {content: \"\";position: absolute;border-left: 1px solid gray;box-sizing: border-box;top: 0;bottom: 0;left: 50%;z-index: 0;}#sk-container-id-1 div.sk-serial {display: flex;flex-direction: column;align-items: center;background-color: white;padding-right: 0.2em;padding-left: 0.2em;position: relative;}#sk-container-id-1 div.sk-item {position: relative;z-index: 1;}#sk-container-id-1 div.sk-parallel {display: flex;align-items: stretch;justify-content: center;background-color: white;position: relative;}#sk-container-id-1 div.sk-item::before, #sk-container-id-1 div.sk-parallel-item::before {content: \"\";position: absolute;border-left: 1px solid gray;box-sizing: border-box;top: 0;bottom: 0;left: 50%;z-index: -1;}#sk-container-id-1 div.sk-parallel-item {display: flex;flex-direction: column;z-index: 1;position: relative;background-color: white;}#sk-container-id-1 div.sk-parallel-item:first-child::after {align-self: flex-end;width: 50%;}#sk-container-id-1 div.sk-parallel-item:last-child::after {align-self: flex-start;width: 50%;}#sk-container-id-1 div.sk-parallel-item:only-child::after {width: 0;}#sk-container-id-1 div.sk-dashed-wrapped {border: 1px dashed gray;margin: 0 0.4em 0.5em 0.4em;box-sizing: border-box;padding-bottom: 0.4em;background-color: white;}#sk-container-id-1 div.sk-label label {font-family: monospace;font-weight: bold;display: inline-block;line-height: 1.2em;}#sk-container-id-1 div.sk-label-container {text-align: center;}#sk-container-id-1 div.sk-container {/* jupyter's `normalize.less` sets `[hidden] { display: none; }` but bootstrap.min.css set `[hidden] { display: none !important; }` so we also need the `!important` here to be able to override the default hidden behavior on the sphinx rendered scikit-learn.org. See: https://github.com/scikit-learn/scikit-learn/issues/21755 */display: inline-block !important;position: relative;}#sk-container-id-1 div.sk-text-repr-fallback {display: none;}</style><div id=\"sk-container-id-1\" class=\"sk-top-container\"><div class=\"sk-text-repr-fallback\"><pre>SVC(kernel=&#x27;linear&#x27;, random_state=3)</pre><b>In a Jupyter environment, please rerun this cell to show the HTML representation or trust the notebook. <br />On GitHub, the HTML representation is unable to render, please try loading this page with nbviewer.org.</b></div><div class=\"sk-container\" hidden><div class=\"sk-item\"><div class=\"sk-estimator sk-toggleable\"><input class=\"sk-toggleable__control sk-hidden--visually\" id=\"sk-estimator-id-1\" type=\"checkbox\" checked><label for=\"sk-estimator-id-1\" class=\"sk-toggleable__label sk-toggleable__label-arrow\">SVC</label><div class=\"sk-toggleable__content\"><pre>SVC(kernel=&#x27;linear&#x27;, random_state=3)</pre></div></div></div></div></div>"
      ],
      "text/plain": [
       "SVC(kernel='linear', random_state=3)"
      ]
     },
     "execution_count": 19,
     "metadata": {},
     "output_type": "execute_result"
    }
   ],
   "source": [
    "# treinando o modelo\n",
    "algoritmo.fit(x_treino,y_treino)"
   ]
  },
  {
   "cell_type": "code",
   "execution_count": 21,
   "metadata": {},
   "outputs": [],
   "source": [
    "# gerando previsão dos resultados\n",
    "y_prev = algoritmo.predict(x_teste)"
   ]
  },
  {
   "cell_type": "code",
   "execution_count": 22,
   "metadata": {},
   "outputs": [
    {
     "data": {
      "text/plain": [
       "array([[ 0.88051148,  0.12484894],\n",
       "       [ 0.98171969, -1.25765908],\n",
       "       [ 2.19621829, -1.14480128],\n",
       "       [-1.75090214, -0.58051229],\n",
       "       [-1.04244462,  0.54806568],\n",
       "       [ 0.27326218,  0.23770674],\n",
       "       [ 1.38655256, -1.31408798],\n",
       "       [-1.44727749, -0.60872674],\n",
       "       [ 0.67809505, -0.86265679],\n",
       "       [-1.04244462, -1.48337467],\n",
       "       [ 0.3744704 , -0.27015335],\n",
       "       [ 0.17205397, -0.77801344],\n",
       "       [ 0.88051148,  0.51985123],\n",
       "       [-0.2327789 , -0.4676545 ],\n",
       "       [-1.14365284, -1.06015793],\n",
       "       [-1.34606927, -1.42694577],\n",
       "       [-0.73881998, -0.58051229],\n",
       "       [-1.34606927,  0.40699343],\n",
       "       [-0.03036246,  1.90235924],\n",
       "       [ 0.27326218, -0.27015335],\n",
       "       [-0.53640354,  0.46342233],\n",
       "       [-0.33398711, -1.25765908],\n",
       "       [-0.84002819,  0.29413563],\n",
       "       [ 0.47567862, -0.12908111],\n",
       "       [-0.43519533,  1.22521246],\n",
       "       [-0.63761176, -0.32658225],\n",
       "       [ 0.47567862, -0.43944005],\n",
       "       [ 1.48776077,  2.26914708],\n",
       "       [ 0.3744704 ,  0.26592118],\n",
       "       [ 0.88051148, -1.31408798],\n",
       "       [ 0.67809505,  1.95878814],\n",
       "       [-0.94123641, -1.06015793],\n",
       "       [ 0.47567862,  0.97128242],\n",
       "       [ 0.88051148,  0.74556682],\n",
       "       [-0.2327789 ,  0.51985123],\n",
       "       [ 0.3744704 , -0.49586895],\n",
       "       [-0.73881998,  1.05592576],\n",
       "       [ 0.07084575, -0.2419389 ],\n",
       "       [-0.2327789 ,  0.60449458],\n",
       "       [-1.75090214,  0.35056453],\n",
       "       [ 1.18413613,  2.01521704],\n",
       "       [-1.04244462,  1.90235924],\n",
       "       [-0.2327789 ,  2.18450374],\n",
       "       [ 0.17205397, -0.77801344],\n",
       "       [ 1.18413613, -1.17301573],\n",
       "       [ 0.47567862,  0.01199114],\n",
       "       [-1.85211035, -1.22944463],\n",
       "       [ 0.77930326,  1.73307255],\n",
       "       [-0.2327789 ,  0.15306339],\n",
       "       [-1.24486106,  0.49163678],\n",
       "       [-0.94123641, -0.4112256 ],\n",
       "       [-0.84002819,  0.15306339],\n",
       "       [-0.13157068, -0.27015335],\n",
       "       [-1.04244462,  0.74556682],\n",
       "       [ 0.98171969, -1.11658683],\n",
       "       [ 0.3744704 ,  0.49163678],\n",
       "       [-1.34606927, -0.4112256 ],\n",
       "       [ 0.98171969,  0.99949687],\n",
       "       [-0.63761176, -1.53980357],\n",
       "       [ 0.27326218, -0.12908111],\n",
       "       [-0.73881998, -1.48337467],\n",
       "       [ 1.48776077, -0.89087124],\n",
       "       [ 1.08292791,  2.01521704],\n",
       "       [-0.2327789 ,  0.09663449],\n",
       "       [-0.2327789 , -0.2983678 ],\n",
       "       [-0.03036246,  0.26592118],\n",
       "       [ 0.98171969, -0.74979899],\n",
       "       [ 2.2974265 , -0.77801344],\n",
       "       [-0.63761176, -0.10086666],\n",
       "       [ 1.79138542,  1.56378585],\n",
       "       [-1.64969392,  0.06842004],\n",
       "       [ 1.58896899, -1.00372903],\n",
       "       [-0.73881998, -0.21372445],\n",
       "       [-0.2327789 , -1.31408798],\n",
       "       [ 0.17205397,  0.20949229],\n",
       "       [-0.2327789 , -0.55229784],\n",
       "       [-1.14365284,  0.29413563],\n",
       "       [ 0.27326218, -0.3547967 ],\n",
       "       [-0.53640354, -1.45516022],\n",
       "       [-0.94123641,  0.54806568],\n",
       "       [ 1.58896899,  2.07164594],\n",
       "       [-0.2327789 ,  0.06842004],\n",
       "       [ 0.47567862,  2.24093263],\n",
       "       [ 0.77930326, -1.34230242],\n",
       "       [ 0.98171969, -0.5240834 ],\n",
       "       [ 0.47567862,  0.29413563],\n",
       "       [ 0.17205397,  1.02771132],\n",
       "       [ 0.07084575, -0.2983678 ],\n",
       "       [ 0.3744704 , -0.18551   ],\n",
       "       [-0.13157068, -0.55229784],\n",
       "       [-0.53640354,  1.33807026],\n",
       "       [-1.34606927, -1.06015793],\n",
       "       [-1.14365284,  0.06842004],\n",
       "       [ 0.98171969,  2.09986039],\n",
       "       [ 1.08292791, -1.03194348],\n",
       "       [ 1.08292791,  1.73307255],\n",
       "       [-0.73881998,  0.29413563],\n",
       "       [ 2.19621829,  0.18127784],\n",
       "       [ 0.88051148, -0.80622789],\n",
       "       [-1.04244462, -0.32658225],\n",
       "       [-0.33398711,  1.19699801],\n",
       "       [-1.95331857,  0.35056453],\n",
       "       [-1.04244462, -0.43944005],\n",
       "       [-1.24486106,  0.26592118],\n",
       "       [ 2.09501007, -1.31408798],\n",
       "       [-0.53640354,  1.84593034],\n",
       "       [-1.14365284, -1.48337467],\n",
       "       [ 0.47567862,  1.08414021],\n",
       "       [-0.63761176,  0.12484894],\n",
       "       [ 0.88051148, -1.34230242],\n",
       "       [ 0.27326218, -0.63694119],\n",
       "       [ 2.2974265 ,  0.37877898],\n",
       "       [-0.94123641, -0.2983678 ],\n",
       "       [-1.75090214, -0.94730013],\n",
       "       [-0.33398711, -0.74979899],\n",
       "       [ 0.98171969, -1.39873132],\n",
       "       [ 0.3744704 ,  0.29413563],\n",
       "       [-1.44727749,  0.35056453],\n",
       "       [ 0.47567862,  0.29413563],\n",
       "       [ 0.88051148,  0.35056453]])"
      ]
     },
     "execution_count": 22,
     "metadata": {},
     "output_type": "execute_result"
    }
   ],
   "source": [
    "# exibindo o x_teste\n",
    "x_teste"
   ]
  },
  {
   "cell_type": "code",
   "execution_count": 23,
   "metadata": {},
   "outputs": [],
   "source": [
    "# Aplicando a transformada inversa nos dados\n",
    "x_teste_padro = sc.inverse_transform(x_teste)"
   ]
  },
  {
   "cell_type": "code",
   "execution_count": 24,
   "metadata": {},
   "outputs": [
    {
     "data": {
      "text/plain": [
       "array([[4.60e+01, 7.40e+04],\n",
       "       [4.70e+01, 2.50e+04],\n",
       "       [5.90e+01, 2.90e+04],\n",
       "       [2.00e+01, 4.90e+04],\n",
       "       [2.70e+01, 8.90e+04],\n",
       "       [4.00e+01, 7.80e+04],\n",
       "       [5.10e+01, 2.30e+04],\n",
       "       [2.30e+01, 4.80e+04],\n",
       "       [4.40e+01, 3.90e+04],\n",
       "       [2.70e+01, 1.70e+04],\n",
       "       [4.10e+01, 6.00e+04],\n",
       "       [3.90e+01, 4.20e+04],\n",
       "       [4.60e+01, 8.80e+04],\n",
       "       [3.50e+01, 5.30e+04],\n",
       "       [2.60e+01, 3.20e+04],\n",
       "       [2.40e+01, 1.90e+04],\n",
       "       [3.00e+01, 4.90e+04],\n",
       "       [2.40e+01, 8.40e+04],\n",
       "       [3.70e+01, 1.37e+05],\n",
       "       [4.00e+01, 6.00e+04],\n",
       "       [3.20e+01, 8.60e+04],\n",
       "       [3.40e+01, 2.50e+04],\n",
       "       [2.90e+01, 8.00e+04],\n",
       "       [4.20e+01, 6.50e+04],\n",
       "       [3.30e+01, 1.13e+05],\n",
       "       [3.10e+01, 5.80e+04],\n",
       "       [4.20e+01, 5.40e+04],\n",
       "       [5.20e+01, 1.50e+05],\n",
       "       [4.10e+01, 7.90e+04],\n",
       "       [4.60e+01, 2.30e+04],\n",
       "       [4.40e+01, 1.39e+05],\n",
       "       [2.80e+01, 3.20e+04],\n",
       "       [4.20e+01, 1.04e+05],\n",
       "       [4.60e+01, 9.60e+04],\n",
       "       [3.50e+01, 8.80e+04],\n",
       "       [4.10e+01, 5.20e+04],\n",
       "       [3.00e+01, 1.07e+05],\n",
       "       [3.80e+01, 6.10e+04],\n",
       "       [3.50e+01, 9.10e+04],\n",
       "       [2.00e+01, 8.20e+04],\n",
       "       [4.90e+01, 1.41e+05],\n",
       "       [2.70e+01, 1.37e+05],\n",
       "       [3.50e+01, 1.47e+05],\n",
       "       [3.90e+01, 4.20e+04],\n",
       "       [4.90e+01, 2.80e+04],\n",
       "       [4.20e+01, 7.00e+04],\n",
       "       [1.90e+01, 2.60e+04],\n",
       "       [4.50e+01, 1.31e+05],\n",
       "       [3.50e+01, 7.50e+04],\n",
       "       [2.50e+01, 8.70e+04],\n",
       "       [2.80e+01, 5.50e+04],\n",
       "       [2.90e+01, 7.50e+04],\n",
       "       [3.60e+01, 6.00e+04],\n",
       "       [2.70e+01, 9.60e+04],\n",
       "       [4.70e+01, 3.00e+04],\n",
       "       [4.10e+01, 8.70e+04],\n",
       "       [2.40e+01, 5.50e+04],\n",
       "       [4.70e+01, 1.05e+05],\n",
       "       [3.10e+01, 1.50e+04],\n",
       "       [4.00e+01, 6.50e+04],\n",
       "       [3.00e+01, 1.70e+04],\n",
       "       [5.20e+01, 3.80e+04],\n",
       "       [4.80e+01, 1.41e+05],\n",
       "       [3.50e+01, 7.30e+04],\n",
       "       [3.50e+01, 5.90e+04],\n",
       "       [3.70e+01, 7.90e+04],\n",
       "       [4.70e+01, 4.30e+04],\n",
       "       [6.00e+01, 4.20e+04],\n",
       "       [3.10e+01, 6.60e+04],\n",
       "       [5.50e+01, 1.25e+05],\n",
       "       [2.10e+01, 7.20e+04],\n",
       "       [5.30e+01, 3.40e+04],\n",
       "       [3.00e+01, 6.20e+04],\n",
       "       [3.50e+01, 2.30e+04],\n",
       "       [3.90e+01, 7.70e+04],\n",
       "       [3.50e+01, 5.00e+04],\n",
       "       [2.60e+01, 8.00e+04],\n",
       "       [4.00e+01, 5.70e+04],\n",
       "       [3.20e+01, 1.80e+04],\n",
       "       [2.80e+01, 8.90e+04],\n",
       "       [5.30e+01, 1.43e+05],\n",
       "       [3.50e+01, 7.20e+04],\n",
       "       [4.20e+01, 1.49e+05],\n",
       "       [4.50e+01, 2.20e+04],\n",
       "       [4.70e+01, 5.10e+04],\n",
       "       [4.20e+01, 8.00e+04],\n",
       "       [3.90e+01, 1.06e+05],\n",
       "       [3.80e+01, 5.90e+04],\n",
       "       [4.10e+01, 6.30e+04],\n",
       "       [3.60e+01, 5.00e+04],\n",
       "       [3.20e+01, 1.17e+05],\n",
       "       [2.40e+01, 3.20e+04],\n",
       "       [2.60e+01, 7.20e+04],\n",
       "       [4.70e+01, 1.44e+05],\n",
       "       [4.80e+01, 3.30e+04],\n",
       "       [4.80e+01, 1.31e+05],\n",
       "       [3.00e+01, 8.00e+04],\n",
       "       [5.90e+01, 7.60e+04],\n",
       "       [4.60e+01, 4.10e+04],\n",
       "       [2.70e+01, 5.80e+04],\n",
       "       [3.40e+01, 1.12e+05],\n",
       "       [1.80e+01, 8.20e+04],\n",
       "       [2.70e+01, 5.40e+04],\n",
       "       [2.50e+01, 7.90e+04],\n",
       "       [5.80e+01, 2.30e+04],\n",
       "       [3.20e+01, 1.35e+05],\n",
       "       [2.60e+01, 1.70e+04],\n",
       "       [4.20e+01, 1.08e+05],\n",
       "       [3.10e+01, 7.40e+04],\n",
       "       [4.60e+01, 2.20e+04],\n",
       "       [4.00e+01, 4.70e+04],\n",
       "       [6.00e+01, 8.30e+04],\n",
       "       [2.80e+01, 5.90e+04],\n",
       "       [2.00e+01, 3.60e+04],\n",
       "       [3.40e+01, 4.30e+04],\n",
       "       [4.70e+01, 2.00e+04],\n",
       "       [4.10e+01, 8.00e+04],\n",
       "       [2.30e+01, 8.20e+04],\n",
       "       [4.20e+01, 8.00e+04],\n",
       "       [4.60e+01, 8.20e+04]])"
      ]
     },
     "execution_count": 24,
     "metadata": {},
     "output_type": "execute_result"
    }
   ],
   "source": [
    "x_teste_padro"
   ]
  },
  {
   "cell_type": "code",
   "execution_count": 26,
   "metadata": {},
   "outputs": [
    {
     "name": "stdout",
     "output_type": "stream",
     "text": [
      "[[72  6]\n",
      " [13 29]]\n"
     ]
    }
   ],
   "source": [
    "cm = confusion_matrix(y_teste, y_prev)\n",
    "print(cm)"
   ]
  },
  {
   "cell_type": "code",
   "execution_count": 28,
   "metadata": {},
   "outputs": [],
   "source": [
    "import seaborn as sns"
   ]
  },
  {
   "cell_type": "code",
   "execution_count": 29,
   "metadata": {},
   "outputs": [
    {
     "name": "stdout",
     "output_type": "stream",
     "text": [
      "<class 'pandas.core.frame.DataFrame'>\n",
      "RangeIndex: 400 entries, 0 to 399\n",
      "Data columns (total 5 columns):\n",
      " #   Column           Non-Null Count  Dtype \n",
      "---  ------           --------------  ----- \n",
      " 0   Usuario          400 non-null    int64 \n",
      " 1   Genero           400 non-null    object\n",
      " 2   Idade            400 non-null    int64 \n",
      " 3   EstimatedSalary  400 non-null    int64 \n",
      " 4   Comprou          400 non-null    int64 \n",
      "dtypes: int64(4), object(1)\n",
      "memory usage: 15.8+ KB\n",
      "None\n"
     ]
    },
    {
     "data": {
      "image/png": "[encoded data removed]",
      "text/plain": [
       "<Figure size 800x600 with 1 Axes>"
      ]
     },
     "metadata": {},
     "output_type": "display_data"
    }
   ],
   "source": [
    "plt.figure(figsize=(8,6))\n",
    "print(df.info())\n",
    "# sns.heatmap(informação a ser exibida, exibir valores, cor, cbar, rotulos dos eixos)\n",
    "sns.heatmap(cm,annot= True,fmt='d',cmap='Blues',cbar=False,xticklabels=['Comprou','Não Comprou'],yticklabels=['Comprou','Não Comprou'])\n",
    "plt.xlabel('Previsão')\n",
    "plt.ylabel('Verdadeiro')\n",
    "plt.title('Matriz de Confusão - Classificação de compra ou não dos clientes')\n",
    "plt.show()"
   ]
  },
  {
   "cell_type": "code",
   "execution_count": 30,
   "metadata": {},
   "outputs": [
    {
     "data": {
      "text/plain": [
       "0.8416666666666667"
      ]
     },
     "execution_count": 30,
     "metadata": {},
     "output_type": "execute_result"
    }
   ],
   "source": [
    "# acuracia = VP +VN /Total\n",
    "acc = accuracy_score(y_teste,y_prev)\n",
    "acc"
   ]
  },
  {
   "cell_type": "code",
   "execution_count": 31,
   "metadata": {},
   "outputs": [
    {
     "data": {
      "text/plain": [
       "0.8285714285714286"
      ]
     },
     "execution_count": 31,
     "metadata": {},
     "output_type": "execute_result"
    }
   ],
   "source": [
    "# precisao = VP / (VP + FN)\n",
    "prec = precision_score(y_teste,y_prev)\n",
    "prec"
   ]
  },
  {
   "cell_type": "markdown",
   "metadata": {},
   "source": [
    "f1_score\n",
    "F1_score é a métrica mais completa para avaliar um modelo de machine learning pois leva em consideração além dos verdadeiros positivos e verdadeiros negativos, os falsos positivos e falso negativo"
   ]
  },
  {
   "cell_type": "code",
   "execution_count": 32,
   "metadata": {},
   "outputs": [
    {
     "data": {
      "text/plain": [
       "0.7532467532467533"
      ]
     },
     "execution_count": 32,
     "metadata": {},
     "output_type": "execute_result"
    }
   ],
   "source": [
    "f1 = f1_score(y_teste,y_prev)\n",
    "f1"
   ]
  },
  {
   "cell_type": "code",
   "execution_count": 36,
   "metadata": {},
   "outputs": [
    {
     "data": {
      "text/plain": [
       "0.6904761904761905"
      ]
     },
     "execution_count": 36,
     "metadata": {},
     "output_type": "execute_result"
    }
   ],
   "source": [
    "# Metrica recall score\n",
    "recall = recall_score(y_teste,y_prev)\n",
    "recall\n",
    "# recal = VP / VP + FN"
   ]
  },
  {
   "cell_type": "code",
   "execution_count": 37,
   "metadata": {},
   "outputs": [
    {
     "name": "stderr",
     "output_type": "stream",
     "text": [
      "C:\\Users\\dsadm\\AppData\\Local\\Temp\\ipykernel_36360\\4044829570.py:9: UserWarning: *c* argument looks like a single numeric RGB or RGBA sequence, which should be avoided as value-mapping will have precedence in case its length matches with *x* & *y*.  Please use the *color* keyword-argument or provide a 2D array with a single row if you intend to specify the same RGB or RGBA value for all points.\n",
      "  plt.scatter(_X[_y == j, 0], _X[_y == j, 1],\n"
     ]
    },
    {
     "data": {
      "image/png": "[encoded data removed]",
      "text/plain": [
       "<Figure size 640x480 with 1 Axes>"
      ]
     },
     "metadata": {},
     "output_type": "display_data"
    }
   ],
   "source": [
    "_X, _y = x_treino, y_treino\n",
    "X1, X2 = np.meshgrid(np.arange(start = _X[:, 0].min() - 1, stop = _X[:, 0].max() + 1, step = 0.01),\n",
    "                     np.arange(start = _X[:, 1].min() - 1, stop = _X[:, 1].max() + 1, step = 0.01))\n",
    "plt.contourf(X1, X2, algoritmo.predict(np.array([X1.ravel(), X2.ravel()]).T).reshape(X1.shape),\n",
    "             alpha = 0.75, cmap = ListedColormap(('red', 'blue')))\n",
    "plt.xlim(X1.min(), X1.max())\n",
    "plt.ylim(X2.min(), X2.max())\n",
    "for i, j in enumerate(np.unique(_y)):\n",
    "    plt.scatter(_X[_y == j, 0], _X[_y == j, 1],\n",
    "                c = ListedColormap(('gray', 'black'))(i), label = j)\n",
    "plt.title('SVM (Dados de Treinamento)')\n",
    "plt.xlabel('Idade')\n",
    "plt.ylabel('Salário Anual (Estimado)')\n",
    "plt.legend()\n",
    "plt.show()"
   ]
  },
  {
   "cell_type": "code",
   "execution_count": 39,
   "metadata": {},
   "outputs": [
    {
     "name": "stderr",
     "output_type": "stream",
     "text": [
      "C:\\Users\\dsadm\\AppData\\Local\\Temp\\ipykernel_36360\\272497234.py:11: UserWarning: *c* argument looks like a single numeric RGB or RGBA sequence, which should be avoided as value-mapping will have precedence in case its length matches with *x* & *y*.  Please use the *color* keyword-argument or provide a 2D array with a single row if you intend to specify the same RGB or RGBA value for all points.\n",
      "  plt.scatter(_X[_y == j, 0], _X[_y == j, 1],\n"
     ]
    },
    {
     "data": {
      "image/png": "[encoded data removed]",
      "text/plain": [
       "<Figure size 640x480 with 1 Axes>"
      ]
     },
     "metadata": {},
     "output_type": "display_data"
    }
   ],
   "source": [
    "# Visualização dados de teste\n",
    "# Visualizando os resultados dos dados de teste:\n",
    "_X, _y = x_teste,y_teste\n",
    "X1, X2 = np.meshgrid(np.arange(start = _X[:, 0].min() - 1, stop = _X[:, 0].max() + 1, step = 0.01),\n",
    "                     np.arange(start = _X[:, 1].min() - 1, stop = _X[:, 1].max() + 1, step = 0.01))\n",
    "plt.contourf(X1, X2, algoritmo.predict(np.array([X1.ravel(), X2.ravel()]).T).reshape(X1.shape),\n",
    "             alpha = 0.75, cmap = ListedColormap(('red', 'blue')))\n",
    "plt.xlim(X1.min(), X1.max())\n",
    "plt.ylim(X2.min(), X2.max())\n",
    "for i, j in enumerate(np.unique(_y)):\n",
    "    plt.scatter(_X[_y == j, 0], _X[_y == j, 1],\n",
    "                c = ListedColormap(('grey', 'black'))(i), label = j)\n",
    "plt.title('SVM (Dados de Teste)')\n",
    "plt.xlabel('Idade')\n",
    "plt.ylabel('Salário Anual (Estimado)')\n",
    "plt.legend()\n",
    "plt.show()"
   ]
  },
  {
   "cell_type": "code",
   "execution_count": 40,
   "metadata": {},
   "outputs": [],
   "source": [
    "#Aplicando transformação nos dados\n"
   ]
  },
  {
   "cell_type": "code",
   "execution_count": 49,
   "metadata": {},
   "outputs": [],
   "source": [
    "# Divisão da amostra\n",
    "from sklearn.model_selection import train_test_split"
   ]
  },
  {
   "cell_type": "code",
   "execution_count": 52,
   "metadata": {},
   "outputs": [
    {
     "data": {
      "image/png": "[encoded data removed]",
      "text/plain": [
       "<Figure size 1000x600 with 1 Axes>"
      ]
     },
     "metadata": {},
     "output_type": "display_data"
    }
   ],
   "source": [
    "#Aplicando transformação nos dados\n",
    "X = df.iloc[:, [2, 3]].values\n",
    "y = df.iloc[:, -1].values\n",
    "\n",
    "# Divisão da amostra\n",
    "from sklearn.model_selection import train_test_split\n",
    "x_treino, x_teste, y_treino, y_teste = train_test_split(X, y, test_size=0.25, random_state=3)\n",
    "\n",
    "# Padronização dos dados\n",
    "sc = StandardScaler()\n",
    "x_treino = sc.fit_transform(x_treino)\n",
    "x_teste = sc.transform(x_teste)\n",
    "\n",
    "# Treinamento do modelo SVM\n",
    "algoritmo = SVC(kernel='linear', random_state=3)\n",
    "algoritmo.fit(x_treino, y_treino)\n",
    "\n",
    "# Previsão dos resultados\n",
    "y_prev = algoritmo.predict(x_teste)\n",
    "\n",
    "# Inversão da escala para os dados de teste\n",
    "X_teste_inverse = sc.inverse_transform(x_teste)\n",
    "\n",
    "# Visualização dos resultados dos dados de teste\n",
    "plt.figure(figsize=(10, 6))\n",
    "\n",
    "# Pontos para as duas classes\n",
    "plt.scatter(X_teste_inverse[y_prev == 0, 0], X_teste_inverse[y_prev == 0, 1], c='red', \n",
    "            label='Não Compra')\n",
    "plt.scatter(X_teste_inverse[y_prev == 1, 0], X_teste_inverse[y_prev == 1, 1], c='blue',\n",
    "             label='Compra')\n",
    "\n",
    "plt.title('SVM (Dados de Teste)')\n",
    "plt.xlabel('Idade')\n",
    "plt.ylabel('Salário Anual (Estimado)')\n",
    "plt.legend()\n",
    "plt.show()"
   ]
  },
  {
   "cell_type": "code",
   "execution_count": null,
   "metadata": {},
   "outputs": [],
   "source": []
  }
 ],
 "metadata": {
  "kernelspec": {
   "display_name": "Python 3",
   "language": "python",
   "name": "python3"
  },
  "language_info": {
   "codemirror_mode": {
    "name": "ipython",
    "version": 3
   },
   "file_extension": ".py",
   "mimetype": "text/x-python",
   "name": "python",
   "nbconvert_exporter": "python",
   "pygments_lexer": "ipython3",
   "version": "3.11.2"
  }
 },
 "nbformat": 4,
 "nbformat_minor": 2
}
